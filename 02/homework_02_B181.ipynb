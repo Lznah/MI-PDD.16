{
 "cells": [
  {
   "cell_type": "markdown",
   "metadata": {},
   "source": [
    "# Homework nr. 2 - data cleaning (deadline 8/11/2018)\n",
    "\n",
    "In short, the main task is to clean The Metropolitan Museum of Art Open Access dataset.\n",
    "  \n",
    "> The instructions are not given in details: It is up to you to come up with ideas on how to fulfill the particular tasks as best you can. ;)\n",
    "\n",
    "## What are you supposed to do:\n",
    "\n",
    "  1. Download the dataset MetObjects.csv from the repository https://github.com/metmuseum/openaccess/.\n",
    "  2. Check consistency of at least three features where you expect problems (include \"Object Name\" feature).\n",
    "  3. Select some features where you expect integrity problems (describe your choice) and check integrity of those features.\n",
    "  4. Convert at least five features to a proper data type. Choose at least one numeric, one categorical and one datetime.\n",
    "  5. Find some outliers (describe your selection criteria).\n",
    "  6. Detect missing data in at least three features, convert them to a proper representation (if they are already not), and impute missing values in at least one feature.\n",
    "\n",
    "**If you do all this properly, you will obtain 6 points**\n",
    "\n",
    "To earn **extra two points** you can do some of these:\n",
    "  * Focus more precisely on cleaning of the \"Medium\" feature. Such if you like to use it in KNN based algorithms later.\n",
    "  * Focus on the extraction of physical dimensions of each item (width, depth and height in centimeters) from the \"Dimensions\" feature.\n",
    "\n",
    "## Comments\n",
    "\n",
    "  * Please follow the instructions from https://courses.fit.cvut.cz/MI-PDD/homeworks/index.html.\n",
    "  * If the reviewing teacher is not satisfied, he can give you another chance to rework your homework and to obtain more points."
   ]
  },
  {
   "cell_type": "code",
   "execution_count": 24,
   "metadata": {},
   "outputs": [
    {
     "name": "stdout",
     "output_type": "stream",
     "text": [
      "LOADING FINISHED\n",
      "<class 'pandas.core.frame.DataFrame'>\n",
      "RangeIndex: 472255 entries, 0 to 472254\n",
      "Data columns (total 43 columns):\n",
      "Object Number              472255 non-null object\n",
      "Is Highlight               472255 non-null bool\n",
      "Is Public Domain           472255 non-null bool\n",
      "Object ID                  472255 non-null int64\n",
      "Department                 472255 non-null object\n",
      "Object Name                468278 non-null object\n",
      "Title                      441187 non-null object\n",
      "Culture                    192212 non-null object\n",
      "Period                     73154 non-null object\n",
      "Dynasty                    23305 non-null object\n",
      "Reign                      11212 non-null object\n",
      "Portfolio                  21840 non-null object\n",
      "Artist Role                281421 non-null object\n",
      "Artist Prefix              96648 non-null object\n",
      "Artist Display Name        282640 non-null object\n",
      "Artist Display Bio         235157 non-null object\n",
      "Artist Suffix              10746 non-null object\n",
      "Artist Alpha Sort          282611 non-null object\n",
      "Artist Nationality         193731 non-null object\n",
      "Artist Begin Date          237189 non-null object\n",
      "Artist End Date            234509 non-null object\n",
      "Object Date                457170 non-null object\n",
      "Object Begin Date          472255 non-null int64\n",
      "Object End Date            472255 non-null int64\n",
      "Medium                     464664 non-null object\n",
      "Dimensions                 411638 non-null object\n",
      "Credit Line                471530 non-null object\n",
      "Geography Type             60198 non-null object\n",
      "City                       32090 non-null object\n",
      "State                      2809 non-null object\n",
      "County                     8465 non-null object\n",
      "Country                    76535 non-null object\n",
      "Region                     31786 non-null object\n",
      "Subregion                  22150 non-null object\n",
      "Locale                     15555 non-null object\n",
      "Locus                      7325 non-null object\n",
      "Excavation                 15963 non-null object\n",
      "River                      2098 non-null object\n",
      "Classification             415834 non-null object\n",
      "Rights and Reproduction    24331 non-null object\n",
      "Link Resource              472255 non-null object\n",
      "Metadata Date              472255 non-null object\n",
      "Repository                 472255 non-null object\n",
      "dtypes: bool(2), int64(3), object(38)\n",
      "memory usage: 148.6+ MB\n"
     ]
    }
   ],
   "source": [
    "import pandas as pd\n",
    "import numpy as np\n",
    "import sklearn as skit\n",
    "import matplotlib.pyplot as plt\n",
    "import seaborn as sns\n",
    "import matplotlib\n",
    "np.set_printoptions(threshold=np.nan)\n",
    "\n",
    "forbidden_columns = []\n",
    "df = pd.read_csv('MetObjects.csv',sep=',',quotechar='\"')\n",
    "print('LOADING FINISHED')\n",
    "df.info();"
   ]
  },
  {
   "cell_type": "markdown",
   "metadata": {},
   "source": [
    "## Convert at least five features to proper data type "
   ]
  },
  {
   "cell_type": "code",
   "execution_count": 25,
   "metadata": {},
   "outputs": [
    {
     "name": "stdout",
     "output_type": "stream",
     "text": [
      "<class 'pandas.core.frame.DataFrame'>\n",
      "RangeIndex: 472255 entries, 0 to 472254\n",
      "Data columns (total 43 columns):\n",
      "Object Number              472255 non-null object\n",
      "Is Highlight               472255 non-null bool\n",
      "Is Public Domain           472255 non-null bool\n",
      "Object ID                  472255 non-null int64\n",
      "Department                 472255 non-null object\n",
      "Object Name                468278 non-null object\n",
      "Title                      441187 non-null object\n",
      "Culture                    192212 non-null object\n",
      "Period                     73154 non-null object\n",
      "Dynasty                    23305 non-null object\n",
      "Reign                      11212 non-null object\n",
      "Portfolio                  21840 non-null object\n",
      "Artist Role                281421 non-null object\n",
      "Artist Prefix              96648 non-null object\n",
      "Artist Display Name        282640 non-null object\n",
      "Artist Display Bio         235157 non-null object\n",
      "Artist Suffix              10746 non-null object\n",
      "Artist Alpha Sort          282611 non-null object\n",
      "Artist Nationality         193731 non-null object\n",
      "Artist Begin Date          237189 non-null object\n",
      "Artist End Date            234509 non-null object\n",
      "Object Date                457170 non-null object\n",
      "Object Begin Date          472255 non-null int64\n",
      "Object End Date            472255 non-null int64\n",
      "Medium                     464664 non-null object\n",
      "Dimensions                 411638 non-null object\n",
      "Credit Line                471530 non-null object\n",
      "Geography Type             60198 non-null object\n",
      "City                       32090 non-null object\n",
      "State                      2809 non-null object\n",
      "County                     8465 non-null object\n",
      "Country                    76535 non-null object\n",
      "Region                     31786 non-null object\n",
      "Subregion                  22150 non-null object\n",
      "Locale                     15555 non-null object\n",
      "Locus                      7325 non-null object\n",
      "Excavation                 15963 non-null object\n",
      "River                      2098 non-null object\n",
      "Classification             415834 non-null object\n",
      "Rights and Reproduction    24331 non-null object\n",
      "Link Resource              472255 non-null object\n",
      "Metadata Date              472255 non-null datetime64[ns]\n",
      "Repository                 472255 non-null category\n",
      "dtypes: bool(2), category(1), datetime64[ns](1), int64(3), object(36)\n",
      "memory usage: 145.5+ MB\n"
     ]
    }
   ],
   "source": [
    "df['Metadata Date'] = pd.to_datetime(df['Metadata Date'],format=\"%m/%d/%Y %I:%M:%S %p\")\n",
    "df['Object Begin Date'] = pd.to_numeric(df['Object Begin Date'])\n",
    "df['Object End Date'] = pd.to_numeric(df['Object End Date'])\n",
    "    \n",
    "repository_category = pd.api.types.CategoricalDtype(categories=[\"Metropolitan Museum of Art, New York, NY\"], ordered=False)\n",
    "if not pd.api.types.is_categorical_dtype(df['Repository']):\n",
    "    df['Repository'] = df['Repository'].astype(repository_category)\n",
    "\n",
    "df.info()"
   ]
  },
  {
   "cell_type": "markdown",
   "metadata": {},
   "source": [
    "## Replacing missing values"
   ]
  },
  {
   "cell_type": "code",
   "execution_count": 26,
   "metadata": {},
   "outputs": [],
   "source": [
    "df['Dimensions'].replace(['Dimensions unavailable'], np.nan, inplace=True)"
   ]
  },
  {
   "cell_type": "markdown",
   "metadata": {},
   "source": [
    "# Consistency\n",
    "## LowerCaseTest"
   ]
  },
  {
   "cell_type": "code",
   "execution_count": null,
   "metadata": {},
   "outputs": [
    {
     "name": "stdout",
     "output_type": "stream",
     "text": [
      "Consistency checks:\n",
      "\tLowerCaseTest:\n",
      "\t\tFAIL: Artist Alpha Sort [before: 60809, after: 60790]\n",
      "\t\tOK: Artist Begin Date [before: 23715, after: 23715]\n",
      "\t\tFAIL: Artist Display Bio [before: 44842, after: 44836]\n",
      "\t\tFAIL: Artist Display Name [before: 60803, after: 60798]\n",
      "\t\tOK: Artist End Date [before: 24039, after: 24039]\n",
      "\t\tFAIL: Artist Nationality [before: 3806, after: 3803]\n",
      "\t\tFAIL: Artist Prefix [before: 5530, after: 5365]\n",
      "\t\tOK: Artist Role [before: 6254, after: 6254]\n",
      "\t\tFAIL: Artist Suffix [before: 1700, after: 1679]\n",
      "\t\tFAIL: City [before: 2664, after: 2650]\n",
      "\t\tOK: Classification [before: 1211, after: 1211]\n",
      "\t\tFAIL: Country [before: 1090, after: 1070]\n",
      "\t\tFAIL: County [before: 1161, after: 1142]\n",
      "\t\tFAIL: Credit Line [before: 38696, after: 38431]\n",
      "\t\tFAIL: Culture [before: 7185, after: 7126]\n",
      "\t\tOK: Department [before: 19, after: 19]\n",
      "\t\tFAIL: Dimensions [before: 253708, after: 252301]\n",
      "\t\tFAIL: Dynasty [before: 378, after: 364]\n",
      "\t\tFAIL: Excavation [before: 361, after: 360]\n",
      "\t\tOK: Geography Type [before: 132, after: 132]\n",
      "\t\tOK: Link Resource [before: 472255, after: 472255]\n",
      "\t\tFAIL: Locale [before: 855, after: 821]\n",
      "\t\tFAIL: Locus [before: 1347, after: 1310]\n",
      "\t\tFAIL: Medium [before: 64512, after: 63203]\n",
      "\t\tFAIL: Object Date [before: 32228, after: 32062]\n",
      "\t\tFAIL: Object Name [before: 27874, after: 27092]\n",
      "\t\tFAIL: Object Number [before: 469589, after: 469588]\n",
      "\t\tFAIL: Period [before: 1768, after: 1725]\n",
      "\t\tFAIL: Portfolio [before: 3181, after: 3118]\n",
      "\t\tFAIL: Region [before: 797, after: 782]\n",
      "\t\tFAIL: Reign [before: 376, after: 348]\n"
     ]
    }
   ],
   "source": [
    "#columns = ['Medium']\n",
    "except_forbidden_columns = df.drop(forbidden_columns, axis=1, inplace=False).columns\n",
    "\n",
    "columns = np.intersect1d(df.select_dtypes(include='object').columns.values,except_forbidden_columns)\n",
    "\n",
    "print('Consistency checks:')\n",
    "print('\\tLowerCaseTest:')\n",
    "for column in columns:\n",
    "    length_before = df[column].nunique()\n",
    "    temp = df[column].str.lower()\n",
    "    length_after = temp.nunique()\n",
    "    testOutput = 'OK'\n",
    "    if length_before > length_after:\n",
    "        df[column+\"_original\"] = df[column]\n",
    "        df[column] = temp\n",
    "        testOutput = 'FAIL'\n",
    "        forbidden_columns.append(column+'_original')\n",
    "    print('\\t\\t'+testOutput+\": \"+column+\" [before: \"+str(length_before)+\", after: \"+str(length_after)+\"]\");"
   ]
  },
  {
   "cell_type": "markdown",
   "metadata": {},
   "source": [
    "## DuplicateRowsTest"
   ]
  },
  {
   "cell_type": "code",
   "execution_count": null,
   "metadata": {},
   "outputs": [],
   "source": [
    "forbidden_columns = forbidden_columns+['Object ID', 'Metadata Date', 'Repository', 'Link Resource', 'Rights and Reproduction']\n",
    "except_forbidden_columns = df.drop(forbidden_columns, axis=1, inplace=False).columns\n",
    "#print(forbidden_columns)\n",
    "temp = df.drop_duplicates(subset=except_forbidden_columns)\n",
    "length_before = len(df.index)\n",
    "length_after = len(temp.index)\n",
    "if length_before > length_after:\n",
    "    print('DUPLICATE ROWS FOUND[before: '+str(length_before)+', after:'+str(length_after)+']: '+str(length_before-length_after)+\" duplicate rows\")\n",
    "    df = temp\n",
    "    print(\"Replacing original dataframe with the dataframe without duplicates\")\n",
    "else:\n",
    "    print('NO DUPLICATES FOUND')"
   ]
  },
  {
   "cell_type": "markdown",
   "metadata": {},
   "source": [
    "# Integrity checks"
   ]
  },
  {
   "cell_type": "markdown",
   "metadata": {},
   "source": [
    "## Object Begin Year is not a higher value than Object End Year\n",
    "It is obviously not correct when an object was created after its finish.\n",
    "\n",
    "It can be seen that 198 objects have wrongly filled dates. These dates could be derivated from the Object Date column, but the structure of this column has no followed format. The columns can't be repaired with any simple algorithm. So I just add new column, which shows if this integrity check failed or not.\n",
    "\n",
    "The similar approche could be applied on columns 'Artist End Date' and 'Artist Begin Date'"
   ]
  },
  {
   "cell_type": "code",
   "execution_count": null,
   "metadata": {},
   "outputs": [],
   "source": [
    "forbidden_columns = forbidden_columns + ['integrity_object_date_check']\n",
    "df['integrity_object_date_check'] = df['Object Begin Date'] < df['Object End Date']"
   ]
  },
  {
   "cell_type": "code",
   "execution_count": null,
   "metadata": {},
   "outputs": [],
   "source": [
    "df[['Object Begin Date', 'Object End Date']]"
   ]
  },
  {
   "cell_type": "markdown",
   "metadata": {},
   "source": [
    "## Object Begin Date and Object End Date cannot be higher than current year\n",
    "\n",
    "It can be seen from df.describe() that Object Begin Date and Object End Date has weirdly looking maximal and minimal values, so I replace them with NaN."
   ]
  },
  {
   "cell_type": "code",
   "execution_count": null,
   "metadata": {},
   "outputs": [],
   "source": [
    "display(df.describe())\n",
    "\n",
    "display(df[df['Object Begin Date'] > 2018])\n",
    "\n",
    "df.loc[df['Object Begin Date'] > 2018, 'Object Begin Date']=np.nan\n",
    "df.loc[df['Object End Date'] > 2018, 'Object End Date']=np.nan"
   ]
  }
 ],
 "metadata": {
  "kernelspec": {
   "display_name": "Python 3",
   "language": "python",
   "name": "python3"
  },
  "language_info": {
   "codemirror_mode": {
    "name": "ipython",
    "version": 3
   },
   "file_extension": ".py",
   "mimetype": "text/x-python",
   "name": "python",
   "nbconvert_exporter": "python",
   "pygments_lexer": "ipython3",
   "version": "3.6.4"
  }
 },
 "nbformat": 4,
 "nbformat_minor": 2
}
