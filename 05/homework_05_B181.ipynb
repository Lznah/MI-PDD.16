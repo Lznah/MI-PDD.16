{
 "cells": [
  {
   "cell_type": "markdown",
   "metadata": {},
   "source": [
    "# Tutorial 05: Homework"
   ]
  },
  {
   "cell_type": "markdown",
   "metadata": {},
   "source": [
    "### Assignement\n",
    "  * For the attached data (cleaned data from the 3rd tutorial) try to use linear regression (or ridge regression, if you will) AND decision tree regressor (or boosted tree) applied on features given by PCA.\n",
    "  * Try to select as less as possible features so that the results are comparably good (in terms of RMSLE) to the results obtained in the 3rd tutorial (RMSLE around 0.12).\n",
    "  * Experiment with the feature selection:\n",
    "    * Has removing indicator or discrete features a positive influence?\n",
    "    * Are the first principal components always the best choice?"
   ]
  },
  {
   "cell_type": "code",
   "execution_count": 129,
   "metadata": {},
   "outputs": [],
   "source": [
    "import pandas as pd\n",
    "import numpy as np\n",
    "import math\n",
    "from scipy import stats\n",
    "import math\n",
    "import matplotlib.pyplot as plt\n",
    "import matplotlib.pylab as pylab\n",
    "import matplotlib\n",
    "from sklearn import datasets\n",
    "from sklearn.decomposition import PCA\n",
    "from sklearn.discriminant_analysis import LinearDiscriminantAnalysis\n",
    "from sklearn.preprocessing import scale\n",
    "from sklearn.model_selection import train_test_split\n",
    "from sklearn.linear_model import LinearRegression, LogisticRegression\n",
    "from sklearn.metrics import mean_squared_error, recall_score\n",
    "%matplotlib inline\n",
    "matplotlib.style.use('ggplot')"
   ]
  },
  {
   "cell_type": "code",
   "execution_count": 130,
   "metadata": {},
   "outputs": [
    {
     "data": {
      "text/html": [
       "<div>\n",
       "<style scoped>\n",
       "    .dataframe tbody tr th:only-of-type {\n",
       "        vertical-align: middle;\n",
       "    }\n",
       "\n",
       "    .dataframe tbody tr th {\n",
       "        vertical-align: top;\n",
       "    }\n",
       "\n",
       "    .dataframe thead th {\n",
       "        text-align: right;\n",
       "    }\n",
       "</style>\n",
       "<table border=\"1\" class=\"dataframe\">\n",
       "  <thead>\n",
       "    <tr style=\"text-align: right;\">\n",
       "      <th></th>\n",
       "      <th>Id</th>\n",
       "      <th>MSSubClass</th>\n",
       "      <th>LotFrontage</th>\n",
       "      <th>LotArea</th>\n",
       "      <th>OverallQual</th>\n",
       "      <th>OverallCond</th>\n",
       "      <th>YearBuilt</th>\n",
       "      <th>YearRemodAdd</th>\n",
       "      <th>MasVnrArea</th>\n",
       "      <th>BsmtFinSF1</th>\n",
       "      <th>...</th>\n",
       "      <th>SaleType_ConLw</th>\n",
       "      <th>SaleType_New</th>\n",
       "      <th>SaleType_Oth</th>\n",
       "      <th>SaleType_WD</th>\n",
       "      <th>SaleCondition_Abnorml</th>\n",
       "      <th>SaleCondition_AdjLand</th>\n",
       "      <th>SaleCondition_Alloca</th>\n",
       "      <th>SaleCondition_Family</th>\n",
       "      <th>SaleCondition_Normal</th>\n",
       "      <th>SaleCondition_Partial</th>\n",
       "    </tr>\n",
       "  </thead>\n",
       "  <tbody>\n",
       "    <tr>\n",
       "      <th>0</th>\n",
       "      <td>1</td>\n",
       "      <td>60</td>\n",
       "      <td>65.0</td>\n",
       "      <td>8450</td>\n",
       "      <td>7</td>\n",
       "      <td>5</td>\n",
       "      <td>2003</td>\n",
       "      <td>2003</td>\n",
       "      <td>196.0</td>\n",
       "      <td>706</td>\n",
       "      <td>...</td>\n",
       "      <td>0</td>\n",
       "      <td>0</td>\n",
       "      <td>0</td>\n",
       "      <td>1</td>\n",
       "      <td>0</td>\n",
       "      <td>0</td>\n",
       "      <td>0</td>\n",
       "      <td>0</td>\n",
       "      <td>1</td>\n",
       "      <td>0</td>\n",
       "    </tr>\n",
       "    <tr>\n",
       "      <th>1</th>\n",
       "      <td>2</td>\n",
       "      <td>20</td>\n",
       "      <td>80.0</td>\n",
       "      <td>9600</td>\n",
       "      <td>6</td>\n",
       "      <td>8</td>\n",
       "      <td>1976</td>\n",
       "      <td>1976</td>\n",
       "      <td>0.0</td>\n",
       "      <td>978</td>\n",
       "      <td>...</td>\n",
       "      <td>0</td>\n",
       "      <td>0</td>\n",
       "      <td>0</td>\n",
       "      <td>1</td>\n",
       "      <td>0</td>\n",
       "      <td>0</td>\n",
       "      <td>0</td>\n",
       "      <td>0</td>\n",
       "      <td>1</td>\n",
       "      <td>0</td>\n",
       "    </tr>\n",
       "    <tr>\n",
       "      <th>2</th>\n",
       "      <td>3</td>\n",
       "      <td>60</td>\n",
       "      <td>68.0</td>\n",
       "      <td>11250</td>\n",
       "      <td>7</td>\n",
       "      <td>5</td>\n",
       "      <td>2001</td>\n",
       "      <td>2002</td>\n",
       "      <td>162.0</td>\n",
       "      <td>486</td>\n",
       "      <td>...</td>\n",
       "      <td>0</td>\n",
       "      <td>0</td>\n",
       "      <td>0</td>\n",
       "      <td>1</td>\n",
       "      <td>0</td>\n",
       "      <td>0</td>\n",
       "      <td>0</td>\n",
       "      <td>0</td>\n",
       "      <td>1</td>\n",
       "      <td>0</td>\n",
       "    </tr>\n",
       "    <tr>\n",
       "      <th>3</th>\n",
       "      <td>4</td>\n",
       "      <td>70</td>\n",
       "      <td>60.0</td>\n",
       "      <td>9550</td>\n",
       "      <td>7</td>\n",
       "      <td>5</td>\n",
       "      <td>1915</td>\n",
       "      <td>1970</td>\n",
       "      <td>0.0</td>\n",
       "      <td>216</td>\n",
       "      <td>...</td>\n",
       "      <td>0</td>\n",
       "      <td>0</td>\n",
       "      <td>0</td>\n",
       "      <td>1</td>\n",
       "      <td>1</td>\n",
       "      <td>0</td>\n",
       "      <td>0</td>\n",
       "      <td>0</td>\n",
       "      <td>0</td>\n",
       "      <td>0</td>\n",
       "    </tr>\n",
       "    <tr>\n",
       "      <th>4</th>\n",
       "      <td>5</td>\n",
       "      <td>60</td>\n",
       "      <td>84.0</td>\n",
       "      <td>14260</td>\n",
       "      <td>8</td>\n",
       "      <td>5</td>\n",
       "      <td>2000</td>\n",
       "      <td>2000</td>\n",
       "      <td>350.0</td>\n",
       "      <td>655</td>\n",
       "      <td>...</td>\n",
       "      <td>0</td>\n",
       "      <td>0</td>\n",
       "      <td>0</td>\n",
       "      <td>1</td>\n",
       "      <td>0</td>\n",
       "      <td>0</td>\n",
       "      <td>0</td>\n",
       "      <td>0</td>\n",
       "      <td>1</td>\n",
       "      <td>0</td>\n",
       "    </tr>\n",
       "  </tbody>\n",
       "</table>\n",
       "<p>5 rows × 327 columns</p>\n",
       "</div>"
      ],
      "text/plain": [
       "   Id  MSSubClass  LotFrontage  LotArea  OverallQual  OverallCond  YearBuilt  \\\n",
       "0   1          60         65.0     8450            7            5       2003   \n",
       "1   2          20         80.0     9600            6            8       1976   \n",
       "2   3          60         68.0    11250            7            5       2001   \n",
       "3   4          70         60.0     9550            7            5       1915   \n",
       "4   5          60         84.0    14260            8            5       2000   \n",
       "\n",
       "   YearRemodAdd  MasVnrArea  BsmtFinSF1          ...            \\\n",
       "0          2003       196.0         706          ...             \n",
       "1          1976         0.0         978          ...             \n",
       "2          2002       162.0         486          ...             \n",
       "3          1970         0.0         216          ...             \n",
       "4          2000       350.0         655          ...             \n",
       "\n",
       "   SaleType_ConLw  SaleType_New  SaleType_Oth  SaleType_WD  \\\n",
       "0               0             0             0            1   \n",
       "1               0             0             0            1   \n",
       "2               0             0             0            1   \n",
       "3               0             0             0            1   \n",
       "4               0             0             0            1   \n",
       "\n",
       "   SaleCondition_Abnorml  SaleCondition_AdjLand  SaleCondition_Alloca  \\\n",
       "0                      0                      0                     0   \n",
       "1                      0                      0                     0   \n",
       "2                      0                      0                     0   \n",
       "3                      1                      0                     0   \n",
       "4                      0                      0                     0   \n",
       "\n",
       "   SaleCondition_Family  SaleCondition_Normal  SaleCondition_Partial  \n",
       "0                     0                     1                      0  \n",
       "1                     0                     1                      0  \n",
       "2                     0                     1                      0  \n",
       "3                     0                     0                      0  \n",
       "4                     0                     1                      0  \n",
       "\n",
       "[5 rows x 327 columns]"
      ]
     },
     "execution_count": 130,
     "metadata": {},
     "output_type": "execute_result"
    }
   ],
   "source": [
    "# loading data\n",
    "data = pd.read_csv('dataHW05.csv', index_col=0)\n",
    "data.head()"
   ]
  },
  {
   "cell_type": "code",
   "execution_count": 132,
   "metadata": {},
   "outputs": [],
   "source": [
    "# spliting data to train and test datasets\n",
    "dtrain, dtest = train_test_split(data, test_size=0.25, random_state=458)\n",
    "X = dtrain.drop(['SalePrice'], axis = 1, errors = 'ignore')\n",
    "y = dtrain.SalePrice\n",
    "Xtest = dtest.drop(['SalePrice'], axis = 1, errors = 'ignore')\n",
    "ytest = dtest.SalePrice"
   ]
  },
  {
   "cell_type": "markdown",
   "metadata": {},
   "source": [
    "# PCA - transformation of domain"
   ]
  },
  {
   "cell_type": "code",
   "execution_count": 133,
   "metadata": {},
   "outputs": [
    {
     "name": "stdout",
     "output_type": "stream",
     "text": [
      "Weights of components (eigenvalues):\n",
      "[0.98395341 0.00466675]\n",
      "Components (eigenvectors):\n",
      "[[-1.27885028e-03 -7.84032386e-04  2.55835897e-04  9.99790517e-01\n",
      "   1.30632021e-05 -8.95014838e-07  2.29723380e-05  5.20009333e-05\n",
      "   1.72480696e-03  7.10717834e-03  1.78823614e-03  3.17963035e-04\n",
      "   9.21337752e-03  9.97414002e-03  1.78484406e-03  6.51181947e-05\n",
      "   1.18241023e-02  6.13023966e-06  1.60341691e-06  7.19294174e-06\n",
      "   1.21451686e-07  1.08167345e-05 -3.51432696e-07  2.96095895e-05\n",
      "   1.75599604e-05  3.57487984e-03  1.09760397e-05  3.29985008e-03\n",
      "   1.29214622e-03  4.45648115e-04 -5.06115424e-05  7.59517804e-05\n",
      "   2.66952896e-04  1.59425406e-04 -4.91551472e-07 -7.39726260e-07\n",
      "   2.58578071e-03  3.54245034e-05  6.77431417e-05  1.58437580e-05\n",
      "   1.74904034e-04  2.84505617e-05  6.52385495e-05  1.60091586e-05\n",
      "   7.15696988e-06  3.24730333e-06  1.39862258e-04  1.01425642e-05\n",
      "   1.41500755e-04  8.20336480e-06  2.87197796e-05  1.33075575e-06\n",
      "   1.97499602e-06  2.62975853e-07  1.47768848e-04  7.56457367e-06\n",
      "   9.35066498e-05  1.62426158e-05  5.44985909e-05  1.29141994e-05\n",
      "   3.77026911e-05  1.58735953e-05  6.58362597e-06  1.74040253e-06]\n",
      " [ 4.79079656e-02 -2.38291018e-03  9.86398918e-03 -1.83756561e-02\n",
      "   1.40996345e-03 -2.73387670e-04  1.87948411e-02  1.19784952e-02\n",
      "   1.15047323e-01  1.39166754e-01 -1.32207292e-02  3.11225872e-01\n",
      "   4.37171897e-01  3.94312882e-01  2.05984856e-01  2.79310978e-03\n",
      "   6.03090848e-01  3.96886948e-05 -7.21072460e-06  4.85656843e-04\n",
      "   1.77197921e-04  4.38253141e-04  1.14992335e-05  1.57364136e-03\n",
      "   4.01523072e-04  2.68342704e-01  7.14615227e-04  1.98138533e-01\n",
      "   4.32564940e-02  2.67498968e-02 -6.49100162e-03  2.01280100e-03\n",
      "   1.04165327e-02  2.45730713e-03  1.90764471e-04 -4.54546865e-05\n",
      "   6.07388376e-03  1.78043851e-04  5.53610113e-03  1.69283704e-03\n",
      "   2.52927398e-03  2.38537838e-04 -6.36998837e-04 -1.87249443e-04\n",
      "   6.94938271e-03  9.74869525e-04  7.26932258e-03  6.88995004e-04\n",
      "   5.64901536e-03  3.30343457e-04  5.29896115e-03  9.45441939e-04\n",
      "   9.12329752e-05  1.56333857e-05  7.64787307e-03  3.98574138e-04\n",
      "   5.77128855e-03  1.05881454e-03  2.60474493e-03  8.88993613e-04\n",
      "   2.62654113e-03  1.24019366e-03  1.05126300e-04  2.84310575e-05]]\n"
     ]
    }
   ],
   "source": [
    "pca = PCA(n_components=2)\n",
    "pca.fit_transform(X)\n",
    "\n",
    "X_pca = pca.transform(X)\n",
    "Xtest_pca = pca.transform(Xtest)\n",
    "print(\"Weights of components (eigenvalues):\")\n",
    "print(pca.explained_variance_ratio_)\n",
    "print(\"Components (eigenvectors):\")\n",
    "print(pca.components_)"
   ]
  },
  {
   "cell_type": "markdown",
   "metadata": {},
   "source": [
    "# Linear Regression"
   ]
  },
  {
   "cell_type": "code",
   "execution_count": 134,
   "metadata": {},
   "outputs": [
    {
     "name": "stdout",
     "output_type": "stream",
     "text": [
      "Root mean squared logarithmic error - without PCA: 0.22722511921268893\n",
      "Root mean squared logarithmic error - with PCA: 0.31161557025799547\n"
     ]
    }
   ],
   "source": [
    "#WITHOUT TRANSFORMED DOMAIN\n",
    "clf1 = LinearRegression()\n",
    "clf1.fit(X, y) \n",
    "RMSLE = np.sqrt(mean_squared_error(clf1.predict(Xtest), ytest))\n",
    "print('Root mean squared logarithmic error - without PCA:', RMSLE)\n",
    "\n",
    "#WITH\n",
    "clf1.fit(X_pca, y)\n",
    "RMSLE = np.sqrt(mean_squared_error(clf1.predict(Xtest_pca), ytest))\n",
    "print('Root mean squared logarithmic error - with PCA:', RMSLE)"
   ]
  },
  {
   "cell_type": "markdown",
   "metadata": {},
   "source": [
    "# DecisionTree Regressor"
   ]
  },
  {
   "cell_type": "code",
   "execution_count": 135,
   "metadata": {},
   "outputs": [
    {
     "name": "stdout",
     "output_type": "stream",
     "text": [
      "Root mean squared logarithmic error - without PCA: 0.2315196537478471\n",
      "Root mean squared logarithmic error - with PCA: 0.31919491614015827\n"
     ]
    }
   ],
   "source": [
    "clf2 = DecisionTreeRegressor()\n",
    "clf2.fit(X, y) \n",
    "RMSLE = np.sqrt(mean_squared_error(clf2.predict(Xtest), ytest))\n",
    "print('Root mean squared logarithmic error - without PCA:', RMSLE)\n",
    "\n",
    "#WITH\n",
    "clf2.fit(X_pca, y)\n",
    "RMSLE = np.sqrt(mean_squared_error(clf2.predict(Xtest_pca), ytest))\n",
    "print('Root mean squared logarithmic error - with PCA:', RMSLE)"
   ]
  },
  {
   "cell_type": "markdown",
   "metadata": {},
   "source": [
    "# Feature selection"
   ]
  },
  {
   "cell_type": "code",
   "execution_count": 136,
   "metadata": {},
   "outputs": [
    {
     "name": "stderr",
     "output_type": "stream",
     "text": [
      "/Library/Frameworks/Python.framework/Versions/3.6/lib/python3.6/site-packages/ipykernel_launcher.py:13: DataConversionWarning: Data with input dtype int64, float64 were all converted to float64 by the scale function.\n",
      "  del sys.path[0]\n",
      "/Library/Frameworks/Python.framework/Versions/3.6/lib/python3.6/site-packages/ipykernel_launcher.py:14: DataConversionWarning: Data with input dtype int64, float64 were all converted to float64 by the scale function.\n",
      "  \n",
      "/Library/Frameworks/Python.framework/Versions/3.6/lib/python3.6/site-packages/ipykernel_launcher.py:15: DataConversionWarning: Data with input dtype int64, float64 were all converted to float64 by the scale function.\n",
      "  from ipykernel import kernelapp as app\n"
     ]
    },
    {
     "name": "stdout",
     "output_type": "stream",
     "text": [
      "Minimum for non-scaled - linear regreession: 0.190472\n",
      "Minimum for scaled - linear regreession: 0.172954\n",
      "Minimum for non-scaled - desicion tree regressor: 0.239485\n",
      "Minimum for scaled - desicion tree regressor: 0.209111\n"
     ]
    },
    {
     "data": {
      "image/png": "[encoded data removed]",
      "text/plain": [
       "<matplotlib.figure.Figure at 0x10a6b7b38>"
      ]
     },
     "metadata": {},
     "output_type": "display_data"
    }
   ],
   "source": [
    "q = 50 # number of components\n",
    "\n",
    "X = dtrain.drop(['SalePrice'], axis = 1, errors = 'ignore')\n",
    "y = dtrain.SalePrice\n",
    "Xtest = dtest.drop(['SalePrice'], axis = 1, errors = 'ignore')\n",
    "ytest = dtest.SalePrice\n",
    "\n",
    "pca = PCA()\n",
    "pca.fit_transform(X)\n",
    "X1 = pca.transform(X)\n",
    "Xtest1 = pca.transform(Xtest)\n",
    "\n",
    "pca.fit_transform(scale(X))\n",
    "X2 = pca.transform(scale(X))\n",
    "Xtest2 = pca.transform(scale(Xtest))\n",
    "RMSLE_linear = []\n",
    "RMSLE_scale_linear = []\n",
    "RMSLE_tree = []\n",
    "RMSLE_scale_tree = []\n",
    "for n in range(1,q):\n",
    "    Xsub1 = X1[:,0:n]\n",
    "    Xsubtest1 = Xtest1[:,0:n]\n",
    "    clf1 = LinearRegression()\n",
    "    clf1.fit(Xsub1, y) \n",
    "    RMSLE_linear.append(np.sqrt(mean_squared_error(clf1.predict(Xsubtest1), ytest)))\n",
    "    Xsub2 = X2[:,0:n]\n",
    "    Xsubtest2 = Xtest2[:,0:n]\n",
    "    clf1 = LinearRegression()\n",
    "    clf1.fit(Xsub2, y)\n",
    "    RMSLE_scale_linear.append(np.sqrt(mean_squared_error(clf1.predict(Xsubtest2), ytest)))\n",
    "    \n",
    "    Xsub1 = X1[:,0:n]\n",
    "    Xsubtest1 = Xtest1[:,0:n]\n",
    "    clf1 = DecisionTreeRegressor()\n",
    "    clf1.fit(Xsub1, y) \n",
    "    RMSLE_tree.append(np.sqrt(mean_squared_error(clf1.predict(Xsubtest1), ytest)))\n",
    "    Xsub2 = X2[:,0:n]\n",
    "    Xsubtest2 = Xtest2[:,0:n]\n",
    "    clf1 = DecisionTreeRegressor()\n",
    "    clf1.fit(Xsub2, y)\n",
    "    RMSLE_scale_tree.append(np.sqrt(mean_squared_error(clf1.predict(Xsubtest2), ytest)))\n",
    "plt.subplots(1,1, figsize=(15, 8))\n",
    "nsl = plt.scatter(range(1,q), RMSLE_linear, c='red')\n",
    "sl = plt.scatter(range(1,q), RMSLE_scale_linear, c='green')\n",
    "nst = plt.scatter(range(1,q), RMSLE_tree, c='blue')\n",
    "st = plt.scatter(range(1,q), RMSLE_scale_tree, c='yellow')\n",
    "plt.title(u\"RMSLE as a function of number of principal components used\")\n",
    "plt.xlabel(u'number of principal component used')\n",
    "plt.ylabel('RMSLE')\n",
    "plt.legend((nsl,sl,nst,st),('non-scaled linear', 'scaled linear', 'non-scaled tree', 'scaled tree'))\n",
    "\n",
    "print(\"Minimum for non-scaled - linear regreession: %f\" %min(RMSLE_linear))\n",
    "print(\"Minimum for scaled - linear regreession: %f\" %min(RMSLE_scale_linear))\n",
    "print(\"Minimum for non-scaled - desicion tree regressor: %f\" %min(RMSLE_tree))\n",
    "print(\"Minimum for scaled - desicion tree regressor: %f\" %min(RMSLE_scale_tree))"
   ]
  },
  {
   "cell_type": "markdown",
   "metadata": {},
   "source": [
    "# Experimental section \n",
    "## Has removing indicator or discrete features a positive influence?\n",
    "Let's measure it. At first, remove all the indicators from the dataset, then continue in section PCA - tranformation of domain. Then, reload data, remove all discrete features from the dataset and again, continue in the section like you did last time. All the RMSLEs are summarized at the end of this section."
   ]
  },
  {
   "cell_type": "markdown",
   "metadata": {},
   "source": [
    "### Indicators"
   ]
  },
  {
   "cell_type": "code",
   "execution_count": 131,
   "metadata": {},
   "outputs": [
    {
     "name": "stdout",
     "output_type": "stream",
     "text": [
      "['HasMasVnrArea', 'HasBsmtFinSF1', 'HasBsmtFinSF2', 'HasBsmtUnfSF', 'HasTotalBsmtSF', 'Has2ndFlrSF', 'HasLowQualFinSF', 'HasGarageArea', 'HasWoodDeckSF', 'HasOpenPorchSF', 'HasPoolArea', 'MSZoning_C (all)', 'MSZoning_FV', 'MSZoning_RH', 'MSZoning_RL', 'MSZoning_RM', 'Street_Grvl', 'Street_Pave', 'LotShape_IR1', 'LotShape_IR2', 'LotShape_IR3', 'LotShape_Reg', 'LandContour_Bnk', 'LandContour_HLS', 'LandContour_Low', 'LandContour_Lvl', 'Utilities_AllPub', 'Utilities_NoSeWa', 'LotConfig_Corner', 'LotConfig_CulDSac', 'LotConfig_FR2', 'LotConfig_FR3', 'LotConfig_Inside', 'LandSlope_Gtl', 'LandSlope_Mod', 'LandSlope_Sev', 'Neighborhood_Blmngtn', 'Neighborhood_Blueste', 'Neighborhood_BrDale', 'Neighborhood_BrkSide', 'Neighborhood_ClearCr', 'Neighborhood_CollgCr', 'Neighborhood_Crawfor', 'Neighborhood_Edwards', 'Neighborhood_Gilbert', 'Neighborhood_IDOTRR', 'Neighborhood_MeadowV', 'Neighborhood_Mitchel', 'Neighborhood_NAmes', 'Neighborhood_NPkVill', 'Neighborhood_NWAmes', 'Neighborhood_NoRidge', 'Neighborhood_NridgHt', 'Neighborhood_OldTown', 'Neighborhood_SWISU', 'Neighborhood_Sawyer', 'Neighborhood_SawyerW', 'Neighborhood_Somerst', 'Neighborhood_StoneBr', 'Neighborhood_Timber', 'Neighborhood_Veenker', 'Condition1_Artery', 'Condition1_Feedr', 'Condition1_Norm', 'Condition1_PosA', 'Condition1_PosN', 'Condition1_RRAe', 'Condition1_RRAn', 'Condition1_RRNe', 'Condition1_RRNn', 'Condition2_Artery', 'Condition2_Feedr', 'Condition2_Norm', 'Condition2_PosA', 'Condition2_PosN', 'Condition2_RRAe', 'Condition2_RRAn', 'Condition2_RRNn', 'BldgType_1Fam', 'BldgType_2fmCon', 'BldgType_Duplex', 'BldgType_Twnhs', 'BldgType_TwnhsE', 'HouseStyle_1.5Fin', 'HouseStyle_1.5Unf', 'HouseStyle_1Story', 'HouseStyle_2.5Fin', 'HouseStyle_2.5Unf', 'HouseStyle_2Story', 'HouseStyle_SFoyer', 'HouseStyle_SLvl', 'RoofStyle_Flat', 'RoofStyle_Gable', 'RoofStyle_Gambrel', 'RoofStyle_Hip', 'RoofStyle_Mansard', 'RoofStyle_Shed', 'RoofMatl_ClyTile', 'RoofMatl_CompShg', 'RoofMatl_Membran', 'RoofMatl_Metal', 'RoofMatl_Roll', 'RoofMatl_Tar&Grv', 'RoofMatl_WdShake', 'RoofMatl_WdShngl', 'Exterior1st_AsbShng', 'Exterior1st_AsphShn', 'Exterior1st_BrkComm', 'Exterior1st_BrkFace', 'Exterior1st_CBlock', 'Exterior1st_CemntBd', 'Exterior1st_HdBoard', 'Exterior1st_ImStucc', 'Exterior1st_MetalSd', 'Exterior1st_Plywood', 'Exterior1st_Stone', 'Exterior1st_Stucco', 'Exterior1st_VinylSd', 'Exterior1st_Wd Sdng', 'Exterior1st_WdShing', 'Exterior2nd_AsbShng', 'Exterior2nd_AsphShn', 'Exterior2nd_Brk Cmn', 'Exterior2nd_BrkFace', 'Exterior2nd_CBlock', 'Exterior2nd_CmentBd', 'Exterior2nd_HdBoard', 'Exterior2nd_ImStucc', 'Exterior2nd_MetalSd', 'Exterior2nd_Other', 'Exterior2nd_Plywood', 'Exterior2nd_Stone', 'Exterior2nd_Stucco', 'Exterior2nd_VinylSd', 'Exterior2nd_Wd Sdng', 'Exterior2nd_Wd Shng', 'MasVnrType_0', 'MasVnrType_BrkCmn', 'MasVnrType_BrkFace', 'MasVnrType_None', 'MasVnrType_Stone', 'ExterQual_Ex', 'ExterQual_Fa', 'ExterQual_Gd', 'ExterQual_TA', 'ExterCond_Ex', 'ExterCond_Fa', 'ExterCond_Gd', 'ExterCond_Po', 'ExterCond_TA', 'Foundation_BrkTil', 'Foundation_CBlock', 'Foundation_PConc', 'Foundation_Slab', 'Foundation_Stone', 'Foundation_Wood', 'BsmtQual_0', 'BsmtQual_Ex', 'BsmtQual_Fa', 'BsmtQual_Gd', 'BsmtQual_TA', 'BsmtCond_0', 'BsmtCond_Fa', 'BsmtCond_Gd', 'BsmtCond_Po', 'BsmtCond_TA', 'BsmtExposure_0', 'BsmtExposure_Av', 'BsmtExposure_Gd', 'BsmtExposure_Mn', 'BsmtExposure_No', 'BsmtFinType1_0', 'BsmtFinType1_ALQ', 'BsmtFinType1_BLQ', 'BsmtFinType1_GLQ', 'BsmtFinType1_LwQ', 'BsmtFinType1_Rec', 'BsmtFinType1_Unf', 'BsmtFinType2_0', 'BsmtFinType2_ALQ', 'BsmtFinType2_BLQ', 'BsmtFinType2_GLQ', 'BsmtFinType2_LwQ', 'BsmtFinType2_Rec', 'BsmtFinType2_Unf', 'Heating_Floor', 'Heating_GasA', 'Heating_GasW', 'Heating_Grav', 'Heating_OthW', 'Heating_Wall', 'HeatingQC_Ex', 'HeatingQC_Fa', 'HeatingQC_Gd', 'HeatingQC_Po', 'HeatingQC_TA', 'CentralAir_N', 'CentralAir_Y', 'Electrical_0', 'Electrical_FuseA', 'Electrical_FuseF', 'Electrical_FuseP', 'Electrical_Mix', 'Electrical_SBrkr', 'KitchenQual_Ex', 'KitchenQual_Fa', 'KitchenQual_Gd', 'KitchenQual_TA', 'Functional_Maj1', 'Functional_Maj2', 'Functional_Min1', 'Functional_Min2', 'Functional_Mod', 'Functional_Sev', 'Functional_Typ', 'FireplaceQu_0', 'FireplaceQu_Ex', 'FireplaceQu_Fa', 'FireplaceQu_Gd', 'FireplaceQu_Po', 'FireplaceQu_TA', 'GarageType_0', 'GarageType_2Types', 'GarageType_Attchd', 'GarageType_Basment', 'GarageType_BuiltIn', 'GarageType_CarPort', 'GarageType_Detchd', 'GarageFinish_0', 'GarageFinish_Fin', 'GarageFinish_RFn', 'GarageFinish_Unf', 'GarageQual_0', 'GarageQual_Ex', 'GarageQual_Fa', 'GarageQual_Gd', 'GarageQual_Po', 'GarageQual_TA', 'GarageCond_0', 'GarageCond_Ex', 'GarageCond_Fa', 'GarageCond_Gd', 'GarageCond_Po', 'GarageCond_TA', 'PavedDrive_N', 'PavedDrive_P', 'PavedDrive_Y', 'SaleType_COD', 'SaleType_CWD', 'SaleType_Con', 'SaleType_ConLD', 'SaleType_ConLI', 'SaleType_ConLw', 'SaleType_New', 'SaleType_Oth', 'SaleType_WD', 'SaleCondition_Abnorml', 'SaleCondition_AdjLand', 'SaleCondition_Alloca', 'SaleCondition_Family', 'SaleCondition_Normal', 'SaleCondition_Partial']\n"
     ]
    }
   ],
   "source": [
    "indicators = []\n",
    "for col in data.columns:\n",
    "    if data[col].nunique() <= 2:\n",
    "        indicators.append(col)\n",
    "print(indicators)\n",
    "data = data.drop(indicators, axis=1) # uncomment to drop the selected columns"
   ]
  },
  {
   "cell_type": "markdown",
   "metadata": {},
   "source": [
    "### Discrete Features"
   ]
  },
  {
   "cell_type": "code",
   "execution_count": 115,
   "metadata": {},
   "outputs": [
    {
     "name": "stdout",
     "output_type": "stream",
     "text": [
      "Index(['Id', 'MSSubClass', 'LotArea', 'OverallQual', 'OverallCond',\n",
      "       'YearBuilt', 'YearRemodAdd', 'BsmtFinSF1', 'BsmtFinSF2', 'BsmtUnfSF',\n",
      "       ...\n",
      "       'SaleType_ConLw', 'SaleType_New', 'SaleType_Oth', 'SaleType_WD',\n",
      "       'SaleCondition_Abnorml', 'SaleCondition_AdjLand',\n",
      "       'SaleCondition_Alloca', 'SaleCondition_Family', 'SaleCondition_Normal',\n",
      "       'SaleCondition_Partial'],\n",
      "      dtype='object', length=295)\n"
     ]
    }
   ],
   "source": [
    "discreteFeatures = data.select_dtypes(exclude=['float64']).columns;\n",
    "print(discreteFeatures)\n",
    "\n",
    "data = data.drop(discreteFeatures, axis=1) # uncomment to drop the selected columns"
   ]
  },
  {
   "cell_type": "markdown",
   "metadata": {},
   "source": [
    "## Summary of reached RMSLEs\n",
    "\n",
    "\n",
    "| Non-scaled LR | Scaled LR | Non-scaled DTR | Scaled DTR | Scaled LR - WI | Scaled DTR - WI | Scaled LR - WDF | Scaled DTR - WDF |\n",
    "|-|-|-|-|-|-|-|-|\n",
    "|   0.187320  | 0.176786 | 0.248288 | 0.204121 | 0.172954 | 0.209111 | 0.208185 | 0.224979 | 0.265962 |\n",
    "\n",
    "LR - linear regression<br>\n",
    "DTR - decision tree regressor<br>\n",
    "WI - without indicators<br>\n",
    "WDF - without discretized features<br>\n",
    "\n",
    "# Conclusion\n",
    "Removing indicators helps to lower RMSLE only for linear regression.<br>\n",
    "Removing discretized features does help to lower RMSLE, which is actually higher instead."
   ]
  },
  {
   "cell_type": "code",
   "execution_count": null,
   "metadata": {},
   "outputs": [],
   "source": []
  }
 ],
 "metadata": {
  "kernelspec": {
   "display_name": "Python 3",
   "language": "python",
   "name": "python3"
  },
  "language_info": {
   "codemirror_mode": {
    "name": "ipython",
    "version": 3
   },
   "file_extension": ".py",
   "mimetype": "text/x-python",
   "name": "python",
   "nbconvert_exporter": "python",
   "pygments_lexer": "ipython3",
   "version": "3.6.4"
  }
 },
 "nbformat": 4,
 "nbformat_minor": 2
}
